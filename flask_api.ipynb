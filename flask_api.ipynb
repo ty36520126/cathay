{
 "cells": [
  {
   "cell_type": "code",
   "execution_count": 1,
   "id": "e8d11da2",
   "metadata": {},
   "outputs": [],
   "source": [
    "import pymongo\n",
    "import flask\n",
    "import json\n",
    "from flask import Flask, request, jsonify\n",
    "from flask_cors import CORS"
   ]
  },
  {
   "cell_type": "code",
   "execution_count": 2,
   "id": "06327062",
   "metadata": {},
   "outputs": [],
   "source": [
    "client = pymongo.MongoClient(\"mongodb://localhost:27017/\")\n",
    "db = client['cathay']\n",
    "collection = db['rent591']"
   ]
  },
  {
   "cell_type": "code",
   "execution_count": 4,
   "id": "908e23e1",
   "metadata": {},
   "outputs": [
    {
     "name": "stdout",
     "output_type": "stream",
     "text": [
      " * Serving Flask app \"__main__\" (lazy loading)\n",
      " * Environment: production\n",
      "\u001b[31m   WARNING: This is a development server. Do not use it in a production deployment.\u001b[0m\n",
      "\u001b[2m   Use a production WSGI server instead.\u001b[0m\n",
      " * Debug mode: off\n"
     ]
    },
    {
     "name": "stderr",
     "output_type": "stream",
     "text": [
      " * Running on http://127.0.0.1:5000/ (Press CTRL+C to quit)\n",
      "127.0.0.1 - - [07/Mar/2022 17:36:38] \"POST /phone HTTP/1.1\" 200 -\n",
      "127.0.0.1 - - [07/Mar/2022 17:37:10] \"GET /taipei_wu HTTP/1.1\" 200 -\n",
      "127.0.0.1 - - [07/Mar/2022 17:37:13] \"GET /not_host HTTP/1.1\" 200 -\n",
      "127.0.0.1 - - [07/Mar/2022 17:37:30] \"GET /newtaipei_man HTTP/1.1\" 200 -\n"
     ]
    }
   ],
   "source": [
    "app = Flask(__name__)\n",
    "CORS(app)\n",
    "\n",
    "@app.route('/newtaipei_man', methods=['GET'])\n",
    "def filter1(): # 男生可承租  且  位於新北 的租屋物件\n",
    "    myquery1 = { \"縣市\": \"台北市\", \"性別要求\": { \"$ne\": \"限女生租住\" } }\n",
    "    filter1 = []\n",
    "    for x in collection.find(myquery1, {\"_id\":0}):\n",
    "        filter1.append(x)\n",
    "    f1 = list(filter1)\n",
    "    return jsonify(f1)\n",
    "\n",
    "\n",
    "@app.route('/taipei_wu', methods=['GET'])\n",
    "def filter2(): #【 臺北 】【 屋主為女性 】【 姓氏 為吳 】\n",
    "    myquery2 = { \"縣市\": \"台北市\", \"出租者\": { \"$regex\": \"^吳\" } }\n",
    "    filter2 = []\n",
    "    for x in collection.find(myquery2, {\"_id\":0}):\n",
    "        filter2.append(x)\n",
    "    f2 = list(filter2)\n",
    "    return jsonify(f2)\n",
    "\n",
    "@app.route('/phone', methods=['POST'])\n",
    "def filter3(): #以 【 聯絡電話 】 查詢租屋物件\n",
    "    inp = request.get_json()\n",
    "    phone = inp['聯絡電話']\n",
    "    myquery3 = { \"聯絡電話\": phone }\n",
    "    filter3 = []\n",
    "    for x in collection.find(myquery3, {\"_id\":0}):\n",
    "        filter3.append(x)\n",
    "    f3 = list(filter3)\n",
    "    return jsonify(f3)\n",
    "\n",
    "@app.route('/not_host', methods=['GET'])\n",
    "def filter4(): #所有 【 非屋主自行刊登 】 的租屋物件\n",
    "    myquery4 = { \"出租者身分\": {\"$ne\" : \"屋主\"} }\n",
    "    filter4 = []\n",
    "    for x in collection.find(myquery4, {\"_id\":0}):\n",
    "        filter4.append(x)\n",
    "    f4 = list(filter4)\n",
    "    return jsonify(f4)\n",
    "\n",
    "\n",
    "app.run()"
   ]
  },
  {
   "cell_type": "code",
   "execution_count": null,
   "id": "9e650fd4",
   "metadata": {},
   "outputs": [],
   "source": []
  }
 ],
 "metadata": {
  "kernelspec": {
   "display_name": "Python 3 (ipykernel)",
   "language": "python",
   "name": "python3"
  },
  "language_info": {
   "codemirror_mode": {
    "name": "ipython",
    "version": 3
   },
   "file_extension": ".py",
   "mimetype": "text/x-python",
   "name": "python",
   "nbconvert_exporter": "python",
   "pygments_lexer": "ipython3",
   "version": "3.9.7"
  }
 },
 "nbformat": 4,
 "nbformat_minor": 5
}
