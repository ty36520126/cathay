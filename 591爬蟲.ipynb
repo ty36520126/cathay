{
 "cells": [
  {
   "cell_type": "markdown",
   "id": "742829ed",
   "metadata": {},
   "source": [
    "## 抓取每頁id"
   ]
  },
  {
   "cell_type": "code",
   "execution_count": 52,
   "id": "86257bbc",
   "metadata": {},
   "outputs": [],
   "source": [
    "from selenium.common.exceptions import UnexpectedAlertPresentException"
   ]
  },
  {
   "cell_type": "code",
   "execution_count": 31,
   "id": "2e7b47e0",
   "metadata": {},
   "outputs": [],
   "source": [
    "import os\n",
    "import time\n",
    "import random\n",
    "from typing import List\n",
    "from urllib.parse import urlparse, parse_qs\n",
    "\n",
    "import typer\n",
    "import joblib\n",
    "from selenium import webdriver\n",
    "from selenium.common.exceptions import NoSuchElementException\n",
    "from selenium.webdriver.common.keys import Keys\n",
    "from bs4 import BeautifulSoup\n",
    "\n",
    "def get_total_pages(url):\n",
    "    browser = webdriver.Chrome()\n",
    "    browser.get(url)\n",
    "    #關閉選取地區pop-up 否則無法點選下一頁\n",
    "    #     browser.find_element_by_id('area-box-close').click()\n",
    "    #     area = browser.find_element_by_id(\"area-box-close\")\n",
    "    #     area.click()  # 取消「選擇縣市」的div視窗\n",
    "    time.sleep(random.uniform(5, 6))\n",
    "    #輸入 ESC 關閉google 提示，否則無法點選\n",
    "#     browser.find_element_by_class_name('pageNext').send_keys(Keys.ESCAPE) #ECS鍵\n",
    "\n",
    "\n",
    "    bs = BeautifulSoup(browser.page_source, 'html.parser')\n",
    "    totalpages = int(bs.find('span', {'class':'TotalRecord'}).text.split(' ')[-2])/30 + 1\n",
    "    print('Total pages: ', totalpages)\n",
    "    print(int(totalpages))\n",
    "    return(int(totalpages))\n",
    "\n",
    "def get_id_list(\n",
    "    URL, max_pages: int = 2, quiet: bool = False\n",
    "):\n",
    "    try:\n",
    "        region = parse_qs(urlparse(URL).query)[\"region\"][0]\n",
    "    except AttributeError as e:\n",
    "        print(\"The URL must have a 'region' query argument!\")\n",
    "        raise e\n",
    "    options = webdriver.ChromeOptions()\n",
    "    if quiet:\n",
    "        options.add_argument(\"headless\")\n",
    "    browser = webdriver.Chrome(options=options)\n",
    "    browser.get(URL)\n",
    "    try:\n",
    "        browser.find_element_by_css_selector(f'dd[data-id=\"{region}\"]').click()\n",
    "    except NoSuchElementException:\n",
    "        pass\n",
    "    time.sleep(2)\n",
    "    \n",
    "    listings: List[str] = []\n",
    "    for i in range(max_pages):\n",
    "        print(f\"Page {i+1}\")\n",
    "        soup = BeautifulSoup(browser.page_source, \"lxml\")\n",
    "        for item in soup.find_all(\"section\", attrs={\"class\": \"vue-list-rent-item\"}):\n",
    "            link = item.find(\"a\")\n",
    "            listings.append(link.attrs[\"href\"].split(\"-\")[-1].split(\".\")[0])\n",
    "\n",
    "        browser.find_element_by_class_name(\"pageNext\").click()\n",
    "        time.sleep(random.uniform(4, 5))\n",
    "        try:\n",
    "            browser.find_element_by_css_selector(\"a.last\")\n",
    "            break\n",
    "        except NoSuchElementException:\n",
    "            pass\n",
    "    print(len(set(listings)))\n",
    "    print(f\"Done! Collected {len(listings)} entries.\")\n",
    "    return(listings)"
   ]
  },
  {
   "cell_type": "code",
   "execution_count": null,
   "id": "6fbaf2e4",
   "metadata": {},
   "outputs": [],
   "source": [
    "# from selenium.common.exceptions import UnexpectedAlertPresentException\n",
    "\n",
    "\n",
    "#             except UnexpectedAlertPresentException:\n",
    "#                 driver.switch_to.alert.accept()\n",
    "#                 driver.delete_all_cookies()\n",
    "#                 time.sleep(300)\n",
    "#                 continue\n",
    "# alert = driver.switch_to.alert\n",
    "# print(alert.text) # 打印警告框內容\n",
    "# #alert.send_keys('輸入內容') #此測試網站不是可輸入類型的彈窗，先註釋掉\n",
    "# alert.accept() #接受現有警告框，相當於確認\n",
    "# #alert.dismiss() #解散現有警告框，相當於取消\n",
    "# time.sleep(2)"
   ]
  },
  {
   "cell_type": "code",
   "execution_count": 30,
   "id": "053472ac",
   "metadata": {
    "scrolled": true
   },
   "outputs": [
    {
     "name": "stderr",
     "output_type": "stream",
     "text": [
      "C:\\Users\\ADMINI~1\\AppData\\Local\\Temp\\2/ipykernel_7184/1360268157.py:46: DeprecationWarning: find_element_by_css_selector is deprecated. Please use find_element(by=By.CSS_SELECTOR, value=css_selector) instead\n",
      "  browser.find_element_by_css_selector(f'dd[data-id=\"{region}\"]').click()\n"
     ]
    },
    {
     "name": "stdout",
     "output_type": "stream",
     "text": [
      "Page 1\n"
     ]
    },
    {
     "name": "stderr",
     "output_type": "stream",
     "text": [
      "C:\\Users\\ADMINI~1\\AppData\\Local\\Temp\\2/ipykernel_7184/1360268157.py:59: DeprecationWarning: find_element_by_class_name is deprecated. Please use find_element(by=By.CLASS_NAME, value=name) instead\n",
      "  browser.find_element_by_class_name(\"pageNext\").click()\n",
      "C:\\Users\\ADMINI~1\\AppData\\Local\\Temp\\2/ipykernel_7184/1360268157.py:62: DeprecationWarning: find_element_by_css_selector is deprecated. Please use find_element(by=By.CSS_SELECTOR, value=css_selector) instead\n",
      "  browser.find_element_by_css_selector(\"a.last\")\n"
     ]
    },
    {
     "name": "stdout",
     "output_type": "stream",
     "text": [
      "Page 2\n",
      "Page 3\n",
      "Page 4\n",
      "Page 5\n",
      "Page 6\n",
      "Page 7\n",
      "Page 8\n",
      "Page 9\n",
      "Page 10\n",
      "Page 11\n",
      "Page 12\n",
      "Page 13\n",
      "Page 14\n",
      "Page 15\n",
      "Page 16\n",
      "Page 17\n",
      "Page 18\n",
      "Page 19\n",
      "Page 20\n",
      "Page 21\n",
      "Page 22\n",
      "Page 23\n",
      "Page 24\n",
      "Page 25\n",
      "Page 26\n",
      "Page 27\n",
      "Page 28\n",
      "Page 29\n",
      "Page 30\n",
      "Page 31\n",
      "Page 32\n",
      "Page 33\n",
      "Page 34\n",
      "Page 35\n",
      "Page 36\n",
      "Page 37\n",
      "Page 38\n",
      "Page 39\n",
      "Page 40\n",
      "Page 41\n",
      "Page 42\n",
      "Page 43\n",
      "Page 44\n",
      "Page 45\n",
      "Page 46\n",
      "Page 47\n",
      "Page 48\n",
      "Page 49\n",
      "Page 50\n",
      "1316\n",
      "Done! Collected 1500 entries.\n"
     ]
    }
   ],
   "source": [
    "URL1 = \"https://rent.591.com.tw/?kind=0&region=1\"\n",
    "# taipei_total = get_total_pages(URL1)\n",
    "taipei_id_list = get_id_list(URL=URL1, max_pages=50, quiet=True)"
   ]
  },
  {
   "cell_type": "code",
   "execution_count": 32,
   "id": "19b7133a",
   "metadata": {
    "scrolled": true
   },
   "outputs": [
    {
     "name": "stderr",
     "output_type": "stream",
     "text": [
      "C:\\Users\\ADMINI~1\\AppData\\Local\\Temp\\2/ipykernel_7184/2579628677.py:46: DeprecationWarning: find_element_by_css_selector is deprecated. Please use find_element(by=By.CSS_SELECTOR, value=css_selector) instead\n",
      "  browser.find_element_by_css_selector(f'dd[data-id=\"{region}\"]').click()\n"
     ]
    },
    {
     "name": "stdout",
     "output_type": "stream",
     "text": [
      "Page 1\n"
     ]
    },
    {
     "name": "stderr",
     "output_type": "stream",
     "text": [
      "C:\\Users\\ADMINI~1\\AppData\\Local\\Temp\\2/ipykernel_7184/2579628677.py:59: DeprecationWarning: find_element_by_class_name is deprecated. Please use find_element(by=By.CLASS_NAME, value=name) instead\n",
      "  browser.find_element_by_class_name(\"pageNext\").click()\n",
      "C:\\Users\\ADMINI~1\\AppData\\Local\\Temp\\2/ipykernel_7184/2579628677.py:62: DeprecationWarning: find_element_by_css_selector is deprecated. Please use find_element(by=By.CSS_SELECTOR, value=css_selector) instead\n",
      "  browser.find_element_by_css_selector(\"a.last\")\n"
     ]
    },
    {
     "name": "stdout",
     "output_type": "stream",
     "text": [
      "Page 2\n",
      "Page 3\n",
      "Page 4\n",
      "Page 5\n",
      "Page 6\n",
      "Page 7\n",
      "Page 8\n",
      "Page 9\n",
      "Page 10\n",
      "Page 11\n",
      "Page 12\n",
      "Page 13\n",
      "Page 14\n",
      "Page 15\n",
      "Page 16\n",
      "Page 17\n",
      "Page 18\n",
      "Page 19\n",
      "Page 20\n",
      "Page 21\n",
      "Page 22\n",
      "Page 23\n",
      "Page 24\n",
      "Page 25\n",
      "Page 26\n",
      "Page 27\n",
      "Page 28\n",
      "Page 29\n",
      "Page 30\n",
      "Page 31\n",
      "Page 32\n",
      "Page 33\n",
      "Page 34\n",
      "Page 35\n",
      "Page 36\n",
      "Page 37\n",
      "Page 38\n",
      "Page 39\n",
      "Page 40\n",
      "Page 41\n",
      "Page 42\n",
      "Page 43\n",
      "Page 44\n",
      "Page 45\n",
      "Page 46\n",
      "Page 47\n",
      "Page 48\n",
      "Page 49\n",
      "Page 50\n",
      "1240\n",
      "Done! Collected 1500 entries.\n"
     ]
    }
   ],
   "source": [
    "URL3 = \"https://rent.591.com.tw/?kind=0&region=3\"\n",
    "# newtaipei_total = get_total_pages(URL3)\n",
    "newtaipei_id_list = get_id_list(URL=URL3, max_pages=50)"
   ]
  },
  {
   "cell_type": "code",
   "execution_count": 33,
   "id": "27a5038b",
   "metadata": {},
   "outputs": [],
   "source": [
    "import json\n",
    "total_id_list = taipei_id_list + newtaipei_id_list\n",
    "id_dict = {}\n",
    "id_dict['all_ids'] = total_id_list\n",
    "id_dict['taipei_ids'] = taipei_id_list\n",
    "id_dict['newtaipei_ids'] = newtaipei_id_list\n",
    "\n",
    "with open('ids.json', 'w') as ids:\n",
    "    json.dump(id_dict, ids)\n",
    "\n",
    "# with open('data.json', 'r') as fp:\n",
    "#     data = json.load(fp)\n",
    "# print(data)\n",
    "# print(type(data))"
   ]
  },
  {
   "cell_type": "markdown",
   "id": "4523c863",
   "metadata": {},
   "source": [
    "## 根據id爬資料"
   ]
  },
  {
   "cell_type": "code",
   "execution_count": 34,
   "id": "841e237a",
   "metadata": {},
   "outputs": [],
   "source": [
    "import re\n",
    "import time\n",
    "import shutil\n",
    "import random\n",
    "import logging\n",
    "from datetime import date\n",
    "from typing import Optional\n",
    "\n",
    "import typer\n",
    "import joblib\n",
    "import pandas as pd\n",
    "from tqdm import tqdm\n",
    "from bs4 import BeautifulSoup\n",
    "from selenium import webdriver\n",
    "from selenium.common.exceptions import TimeoutException\n",
    "from selenium.webdriver.support.ui import WebDriverWait\n",
    "from selenium.webdriver.common.by import By\n",
    "from selenium.webdriver.support import expected_conditions as ec\n",
    "from tenacity import (\n",
    "    retry,\n",
    "    stop_after_attempt,\n",
    "    wait_fixed,\n",
    "    before_sleep_log,\n",
    "    RetryError,\n",
    "    retry_if_exception_type,\n",
    ")\n",
    "\n",
    "import re\n",
    "def parse_price(price_str: str) -> int:\n",
    "    if price_str == \"\" or \"--\" in price_str or \"無\" in price_str:\n",
    "        return 0\n",
    "    return int(re.match(r\"^([\\d,]+)\\w+\", price_str).group(1).replace(\",\", \"\"))\n",
    "\n",
    "\n",
    "# def auto_marking_(df: pd.DataFrame) -> pd.DataFrame:\n",
    "#     df[\"mark\"] = \"\"\n",
    "#     social = (\n",
    "#         df.title.str.contains(\"社宅\")\n",
    "#         | df.title.str.contains(\"社會住宅\")\n",
    "# #         | df.desc.str.contains(\"社會住宅\")\n",
    "#     )\n",
    "#     df.loc[social, \"mark\"] = \"x\"\n",
    "#     df.loc[df[\"提供設備\"].str.contains(\"機械車位\"), \"mark\"] = \"x\"\n",
    "#     return df\n",
    "\n",
    "\n",
    "# def adjust_price_(df: pd.DataFrame) -> pd.DataFrame:\n",
    "#     df[\"price_adjusted\"] = (\n",
    "#         df[\"price\"] * (df[\"poster\"].str.contains(\"收取服務費\").astype(\"float\") * 1 / 24 + 1)\n",
    "#     ).astype(\"int\")\n",
    "#     df[\"price_adjusted\"] = df[\"price_adjusted\"] + df[\"管理費\"].fillna(\"\").apply(\n",
    "#         parse_price\n",
    "#     )\n",
    "#     df[\"price_adjusted\"] = (\n",
    "#         df[\"price_adjusted\"]\n",
    "#         + df[\"車位費\"].fillna(\"\").str.contains(\"費用另計\").astype(\"int\") * 2500\n",
    "#     )\n",
    "    return df"
   ]
  },
  {
   "cell_type": "code",
   "execution_count": 69,
   "id": "61e5b346",
   "metadata": {},
   "outputs": [],
   "source": [
    "LOGGER = logging.getLogger(__name__)\n",
    "\n",
    "\n",
    "class NotExistException(Exception):\n",
    "    pass\n",
    "\n",
    "\n",
    "def get_attributes(soup):\n",
    "    result = {}\n",
    "    poster = re.sub(r\"\\s+\", \" \", soup.select_one(\"p.name\").text.strip())\n",
    "    x = poster.replace(\" \",\"\").split(\":\", 1)\n",
    "    result[\"出租者\"] = x[1]\n",
    "    result[\"出租者身分\"] = x[0] \n",
    "    \n",
    "    try:\n",
    "        result[\"養寵物\"] = (\n",
    "            \"No\" if \"不可養寵物\" in soup.select_one(\"div.service-rule\").text else \"Yes\"\n",
    "        )\n",
    "    except AttributeError:\n",
    "        result[\"養寵物\"] = None\n",
    "    \n",
    "    try:\n",
    "        result[\"性別要求\"] = (\n",
    "            \"限女生租住\" if \"限女生租住\" in soup.select_one(\"div.service-rule\").text else \n",
    "            \"限男生租住\" if \"限男生租住\" in soup.select_one(\"div.service-rule\").text else\n",
    "            \"男女皆可租住\"\n",
    "        )\n",
    "    except AttributeError:\n",
    "        result[\"性別要求\"] = None\n",
    "        \n",
    "    contents = soup.select_one(\"div.main-info-left div.content\").children\n",
    "    for item in contents:\n",
    "        try:\n",
    "            name = item.select_one(\"div div.name\").text\n",
    "            if name in (\"租金含\", \"車位費\", \"管理費\"):\n",
    "                result[name] = name = item.select_one(\"div div.text\").text.strip()\n",
    "        except AttributeError as e:\n",
    "            print(e)\n",
    "            continue\n",
    "    service_list = soup.select_one(\"div.service-list-box\").select(\n",
    "        \"div.service-list-item\"\n",
    "    )\n",
    "    services = []\n",
    "    for item in service_list:\n",
    "        if \"del\" in item[\"class\"]:\n",
    "            continue\n",
    "        services.append(item.text.strip())\n",
    "    result[\"提供設備\"] = \", \".join(services)\n",
    "    attributes = soup.select_one(\"div.house-pattern\").find_all(\"span\")\n",
    "    for i, key in enumerate((\"格局\", \"坪數\", \"樓層\", \"型態\")):\n",
    "        result[key] = attributes[i * 2].text.strip()\n",
    "    return result\n",
    "\n",
    "\n",
    "@retry(\n",
    "    reraise=False,\n",
    "    retry=retry_if_exception_type(TimeoutException),\n",
    "    stop=stop_after_attempt(2),\n",
    "    wait=wait_fixed(1),\n",
    "    before_sleep=before_sleep_log(LOGGER, logging.INFO),\n",
    ")\n",
    "def get_page(browser: webdriver.Chrome, listing_id):\n",
    "    browser.get(f\"https://rent.591.com.tw/home/{listing_id}\".strip())\n",
    "    wait = WebDriverWait(browser, 5)\n",
    "    try:\n",
    "        wait.until(\n",
    "            ec.visibility_of_element_located((By.CSS_SELECTOR, \"div.main-info-left\"))\n",
    "        )\n",
    "    except TimeoutException as e:\n",
    "        soup = BeautifulSoup(browser.page_source, \"lxml\")\n",
    "        tmp = soup.select_one(\"div.title\")\n",
    "        # print(tmp)\n",
    "        if tmp and \"不存在\" in tmp.text:\n",
    "            raise NotExistException()\n",
    "        else:\n",
    "            raise e\n",
    "    return True\n",
    "\n",
    "\n",
    "def get_listing_info(browser: webdriver.Chrome, listing_id):\n",
    "    try:\n",
    "        get_page(browser, listing_id)\n",
    "    except RetryError:\n",
    "        pass\n",
    "    soup = BeautifulSoup(browser.page_source, \"lxml\")\n",
    "    result = {\"id\": listing_id}\n",
    "    result[\"標題\"] = soup.select_one(\".house-title h1\").text\n",
    "    result[\"地址\"] = soup.select_one(\"span.load-map\").text.strip()\n",
    "    complex = soup.select_one(\"div.address span\").text.strip()\n",
    "    if complex != result[\"地址\"]:\n",
    "        result[\"社區\"] = complex\n",
    "    result[\"價格\"] = parse_price(soup.select_one(\"span.price\").text)\n",
    "    result[\"聯絡電話\"] = soup.select(\"span.tel-txt\")[-1].text\n",
    "    result[\"poster\"] = re.sub(r\"\\s+\", \" \", soup.select_one(\"p.name\").text.strip())\n",
    "    result.update(get_attributes(soup))\n",
    "    return result\n",
    "\n",
    "\n",
    "def main2(\n",
    "    source_path: str = \"cache/listings.jbl\",\n",
    "    data_path: Optional[str] = None,\n",
    "    output_path: Optional[str] = None,\n",
    "    limit: int = -1,\n",
    "    headless: bool = False,\n",
    "    city: str = \"台北市\",\n",
    "    ids:list = None\n",
    "):\n",
    "#     listing_ids = joblib.load(source_path)\n",
    "    listing_ids = ids\n",
    "    \n",
    "    df_original: Optional[pd.DataFrame] = None\n",
    "    if data_path:\n",
    "        if data_path.endswith(\".pd\"):\n",
    "            df_original = pd.read_pickle(data_path)\n",
    "        else:\n",
    "            df_original = pd.read_csv(data_path)\n",
    "        listing_ids = list(set(listing_ids) - set(df_original.id.values.astype(\"str\")))\n",
    "        print(len(listing_ids))\n",
    "\n",
    "    if limit > 0:\n",
    "        listing_ids = listing_ids[:limit]\n",
    "\n",
    "    print(f\"Collecting {len(listing_ids)} entries...\")\n",
    "\n",
    "    options = webdriver.ChromeOptions()\n",
    "    if headless:\n",
    "        options.add_argument(\"headless\")\n",
    "    prefs = {\"profile.managed_default_content_settings.images\": 2}\n",
    "    options.add_experimental_option(\"prefs\", prefs)\n",
    "    browser = webdriver.Chrome(options=options)\n",
    "\n",
    "    data = []\n",
    "    for id_ in tqdm(listing_ids, ncols=100):\n",
    "        try:\n",
    "            data.append(get_listing_info(browser, id_))\n",
    "        except NotExistException:\n",
    "            LOGGER.warning(f\"Does not exist: {id_}\")\n",
    "            pass\n",
    "        time.sleep(random.random() * 5)\n",
    "\n",
    "    df_new = pd.DataFrame(data)\n",
    "    optional_fields = (\"租金含\", \"車位費\", \"管理費\")\n",
    "    for field in optional_fields:\n",
    "        if field not in df_new:\n",
    "            df_new[field] = None\n",
    "#     df_new = auto_marking_(df_new)\n",
    "#     df_new = adjust_price_(df_new)\n",
    "    df_new[\"fetched\"] = date.today().isoformat()\n",
    "    df_new[\"縣市\"] = city\n",
    "    if df_original is not None:\n",
    "        df_new = pd.concat([df_new, df_original], axis=0).reset_index(drop=True)\n",
    "\n",
    "    if output_path is None and data_path is None:\n",
    "        # default output path\n",
    "        output_path = \"cache/df_listings.csv\"\n",
    "    elif output_path is None and data_path:\n",
    "        output_path = data_path\n",
    "        shutil.copy(data_path, data_path + \".bak\")\n",
    "\n",
    "    df_new[\"網頁連結\"] = (\n",
    "        \"https://rent.591.com.tw/rent-detail-\" + df_new[\"id\"].astype(\"str\") + \".html\"\n",
    "    )\n",
    "    column_ordering = [\n",
    "        \"縣市\",\n",
    "        \"標題\",\n",
    "        \"出租者\",\n",
    "        \"出租者身分\",\n",
    "        \"聯絡電話\",\n",
    "        \"地址\",\n",
    "        \"社區\",\n",
    "        \"價格\",\n",
    "        \"車位費\",\n",
    "        \"管理費\",\n",
    "        \"養寵物\",\n",
    "        \"性別要求\",\n",
    "        \"提供設備\",\n",
    "        \"格局\",\n",
    "        \"坪數\",\n",
    "        \"樓層\",\n",
    "        \"型態\",\n",
    "        \"id\",\n",
    "        \"fetched\",\n",
    "        \"網頁連結\"\n",
    "    ]\n",
    "#     print(df_new.drop(\"desc\", axis=1).sample(min(df_new.shape[0], 10)))\n",
    "#     df_new[column_ordering].to_csv(output_path, index=False)\n",
    "#     print(df_new[column_ordering].head())\n",
    "    print(\"Finished!\")\n",
    "    return(df_new[column_ordering])"
   ]
  },
  {
   "cell_type": "code",
   "execution_count": 70,
   "id": "0d16ac36",
   "metadata": {
    "scrolled": true
   },
   "outputs": [
    {
     "name": "stdout",
     "output_type": "stream",
     "text": [
      "Collecting 10 entries...\n"
     ]
    },
    {
     "name": "stderr",
     "output_type": "stream",
     "text": [
      "100%|███████████████████████████████████████████████████████████████| 10/10 [00:35<00:00,  3.59s/it]\n"
     ]
    },
    {
     "name": "stdout",
     "output_type": "stream",
     "text": [
      "    縣市                 標題        出租者 出租者身分          聯絡電話           地址    社區  \\\n",
      "0  台北市             雙連捷運套房  傅小姐(收服務費)    仲介  0928-838-839       中山區錦州街         \n",
      "1  台北市             林森2房大廈  傅小姐(收服務費)    仲介  0928-838-839      中山區林森北路  林森大樓   \n",
      "2  台北市            晶華商圈美套房  傅小姐(收服務費)    仲介  0928-838-839  中山區林森北路399巷         \n",
      "3  台北市     大三房兩衛，辦公＆合租皆適合        吳小姐    屋主  0938-803-301      中正區延平南路    社區   \n",
      "4  台北市  有管理員!代收垃圾信件!有晒衣場!  陳先生(收服務費)    仲介  0938-611-923    中山區長安東路一段         \n",
      "\n",
      "      價格   車位費       管理費  養寵物    性別要求  \\\n",
      "0  18000  None  1,100元/月   No  男女皆可租住   \n",
      "1  24000  None       NaN   No  男女皆可租住   \n",
      "2  25000  None    970元/月   No  男女皆可租住   \n",
      "3  45000  None         無  Yes  男女皆可租住   \n",
      "4  11500  None       NaN   No  男女皆可租住   \n",
      "\n",
      "                                                提供設備      格局      坪數      樓層  \\\n",
      "0                   冰箱, 電視, 冷氣, 熱水器, 床, 衣櫃, 天然瓦斯, 電梯  1房1廳1衛  13.43坪  8F/10F   \n",
      "1       冰箱, 洗衣機, 電視, 冷氣, 熱水器, 床, 衣櫃, 沙發, 桌子, 1陽台, 電梯  2房1廳1衛     15坪  7F/12F   \n",
      "2                             洗衣機, 冷氣, 床, 沙發, 桌子, 電梯  1房1廳1衛  10.83坪  6F/13F   \n",
      "3  冰箱, 洗衣機, 電視, 冷氣, 熱水器, 床, 衣櫃, 天然瓦斯, 沙發, 桌椅, 1陽台...  3房1廳2衛     40坪   5F/6F   \n",
      "4   冰箱, 洗衣機, 電視, 冷氣, 熱水器, 床, 衣櫃, 第四台, 網路, 沙發, 桌椅, 電梯    分租套房      7坪   7F/7F   \n",
      "\n",
      "     型態        id     fetched  \\\n",
      "0  電梯大樓  12168290  2022-03-07   \n",
      "1  電梯大樓  12168197  2022-03-07   \n",
      "2  電梯大樓  12150120  2022-03-07   \n",
      "3  電梯大樓  12202173  2022-03-07   \n",
      "4  電梯大樓  12125215  2022-03-07   \n",
      "\n",
      "                                                網頁連結  \n",
      "0  https://rent.591.com.tw/rent-detail-12168290.html  \n",
      "1  https://rent.591.com.tw/rent-detail-12168197.html  \n",
      "2  https://rent.591.com.tw/rent-detail-12150120.html  \n",
      "3  https://rent.591.com.tw/rent-detail-12202173.html  \n",
      "4  https://rent.591.com.tw/rent-detail-12125215.html  \n"
     ]
    }
   ],
   "source": [
    "taipei_data = main2(city=\"台北市\", ids=taipei_id_list[:10])\n",
    "taipei_data = taipei_data.fillna(\"無\")\n",
    "taipei_data_json = taipei_data.to_dict('records')\n",
    "taipei_data_json"
   ]
  },
  {
   "cell_type": "code",
   "execution_count": 71,
   "id": "57e9badb",
   "metadata": {
    "scrolled": true
   },
   "outputs": [],
   "source": [
    "taipei_data_json = taipei_data.to_dict('records')\n",
    "taipei_data_json"
   ]
  },
  {
   "cell_type": "code",
   "execution_count": null,
   "id": "6cde589d",
   "metadata": {},
   "outputs": [],
   "source": [
    "newtaipei_data = main2(city=\"新北市\", ids=newtaipei_id_list[:10])\n",
    "newtaipei_data = data.fillna(\"無\")\n",
    "newtaipei_data_json = newtaipei_data.to_dict('records')\n",
    "newtaipei_data_json"
   ]
  },
  {
   "cell_type": "markdown",
   "id": "6b349b70",
   "metadata": {},
   "source": [
    "## connect to mongodb"
   ]
  },
  {
   "cell_type": "code",
   "execution_count": 44,
   "id": "0782600e",
   "metadata": {},
   "outputs": [],
   "source": [
    "import pymongo"
   ]
  },
  {
   "cell_type": "code",
   "execution_count": 45,
   "id": "511c1aaf",
   "metadata": {},
   "outputs": [],
   "source": [
    "client = pymongo.MongoClient(\"mongodb://localhost:27017/\")"
   ]
  },
  {
   "cell_type": "code",
   "execution_count": 73,
   "id": "bd7bc1be",
   "metadata": {},
   "outputs": [],
   "source": [
    "db = client['cathay']\n",
    "collection = db['rent591']"
   ]
  },
  {
   "cell_type": "code",
   "execution_count": 74,
   "id": "c9b2469d",
   "metadata": {},
   "outputs": [
    {
     "data": {
      "text/plain": [
       "<pymongo.results.InsertManyResult at 0x1a84adcc6c0>"
      ]
     },
     "execution_count": 74,
     "metadata": {},
     "output_type": "execute_result"
    }
   ],
   "source": [
    "collection.insert_many(data_json)"
   ]
  },
  {
   "cell_type": "code",
   "execution_count": 75,
   "id": "bd596634",
   "metadata": {},
   "outputs": [
    {
     "name": "stdout",
     "output_type": "stream",
     "text": [
      "{'_id': ObjectId('6225d150a78182637a964475'), '縣市': '台北市', '標題': '雙連捷運套房', '出租者': '傅小姐(收服務費)', '出租者身分': '仲介', '聯絡電話': '0928-838-839', '地址': '中山區錦州街', '社區': '', '價格': 18000, '車位費': '無', '管理費': '1,100元/月', '養寵物': 'No', '性別要求': '男女皆可租住', '提供設備': '冰箱, 電視, 冷氣, 熱水器, 床, 衣櫃, 天然瓦斯, 電梯', '格局': '1房1廳1衛', '坪數': '13.43坪', '樓層': '8F/10F', '型態': '電梯大樓', 'id': '12168290', 'fetched': '2022-03-07', '網頁連結': 'https://rent.591.com.tw/rent-detail-12168290.html'}\n"
     ]
    }
   ],
   "source": [
    "x = collection.find_one()\n",
    "print(x)"
   ]
  },
  {
   "cell_type": "code",
   "execution_count": 76,
   "id": "1f5037b3",
   "metadata": {},
   "outputs": [],
   "source": [
    "myquery = { \"縣市\": \"台北市\", \"出租者\": { \"$regex\": \"^吳\" } }\n",
    "filter1 = []\n",
    "for x in collection.find(myquery, {\"_id\":0}):\n",
    "    filter1.append(x)"
   ]
  },
  {
   "cell_type": "code",
   "execution_count": 77,
   "id": "2ea764a7",
   "metadata": {},
   "outputs": [
    {
     "data": {
      "text/plain": [
       "[{'縣市': '台北市',\n",
       "  '標題': '大三房兩衛，辦公＆合租皆適合',\n",
       "  '出租者': '吳小姐',\n",
       "  '出租者身分': '屋主',\n",
       "  '聯絡電話': '0938-803-301',\n",
       "  '地址': '中正區延平南路',\n",
       "  '社區': '社區',\n",
       "  '價格': 45000,\n",
       "  '車位費': '無',\n",
       "  '管理費': '無',\n",
       "  '養寵物': 'Yes',\n",
       "  '性別要求': '男女皆可租住',\n",
       "  '提供設備': '冰箱, 洗衣機, 電視, 冷氣, 熱水器, 床, 衣櫃, 天然瓦斯, 沙發, 桌椅, 1陽台, 電梯',\n",
       "  '格局': '3房1廳2衛',\n",
       "  '坪數': '40坪',\n",
       "  '樓層': '5F/6F',\n",
       "  '型態': '電梯大樓',\n",
       "  'id': '12202173',\n",
       "  'fetched': '2022-03-07',\n",
       "  '網頁連結': 'https://rent.591.com.tw/rent-detail-12202173.html'}]"
      ]
     },
     "execution_count": 77,
     "metadata": {},
     "output_type": "execute_result"
    }
   ],
   "source": [
    "filter1"
   ]
  },
  {
   "cell_type": "code",
   "execution_count": null,
   "id": "cfa20877",
   "metadata": {},
   "outputs": [],
   "source": []
  }
 ],
 "metadata": {
  "kernelspec": {
   "display_name": "Python 3 (ipykernel)",
   "language": "python",
   "name": "python3"
  },
  "language_info": {
   "codemirror_mode": {
    "name": "ipython",
    "version": 3
   },
   "file_extension": ".py",
   "mimetype": "text/x-python",
   "name": "python",
   "nbconvert_exporter": "python",
   "pygments_lexer": "ipython3",
   "version": "3.9.7"
  }
 },
 "nbformat": 4,
 "nbformat_minor": 5
}
